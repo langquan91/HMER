{
 "cells": [
  {
   "cell_type": "code",
   "execution_count": 1,
   "metadata": {},
   "outputs": [],
   "source": [
    "import os\n",
    "import cv2\n",
    "import numpy as np\n",
    "import pandas as pd\n",
    "from sklearn.model_selection import train_test_split\n",
    "from sklearn.preprocessing import LabelEncoder"
   ]
  },
  {
   "cell_type": "code",
   "execution_count": 3,
   "metadata": {},
   "outputs": [],
   "source": [
    "# Đường dẫn đến file CSV chứa thông tin nhãn và đường dẫn ảnh\n",
    "csv_path = 'img_labels.csv'"
   ]
  },
  {
   "cell_type": "code",
   "execution_count": 4,
   "metadata": {},
   "outputs": [
    {
     "data": {
      "text/html": [
       "<div>\n",
       "<style scoped>\n",
       "    .dataframe tbody tr th:only-of-type {\n",
       "        vertical-align: middle;\n",
       "    }\n",
       "\n",
       "    .dataframe tbody tr th {\n",
       "        vertical-align: top;\n",
       "    }\n",
       "\n",
       "    .dataframe thead th {\n",
       "        text-align: right;\n",
       "    }\n",
       "</style>\n",
       "<table border=\"1\" class=\"dataframe\">\n",
       "  <thead>\n",
       "    <tr style=\"text-align: right;\">\n",
       "      <th></th>\n",
       "      <th>Label</th>\n",
       "      <th>Image_Path</th>\n",
       "    </tr>\n",
       "  </thead>\n",
       "  <tbody>\n",
       "    <tr>\n",
       "      <th>0</th>\n",
       "      <td>-</td>\n",
       "      <td>D:\\DoAn1\\math\\extracted_images\\-\\-_100005.jpg</td>\n",
       "    </tr>\n",
       "    <tr>\n",
       "      <th>1</th>\n",
       "      <td>-</td>\n",
       "      <td>D:\\DoAn1\\math\\extracted_images\\-\\-_100007.jpg</td>\n",
       "    </tr>\n",
       "    <tr>\n",
       "      <th>2</th>\n",
       "      <td>-</td>\n",
       "      <td>D:\\DoAn1\\math\\extracted_images\\-\\-_100009.jpg</td>\n",
       "    </tr>\n",
       "    <tr>\n",
       "      <th>3</th>\n",
       "      <td>-</td>\n",
       "      <td>D:\\DoAn1\\math\\extracted_images\\-\\-_100015.jpg</td>\n",
       "    </tr>\n",
       "    <tr>\n",
       "      <th>4</th>\n",
       "      <td>-</td>\n",
       "      <td>D:\\DoAn1\\math\\extracted_images\\-\\-_100021.jpg</td>\n",
       "    </tr>\n",
       "  </tbody>\n",
       "</table>\n",
       "</div>"
      ],
      "text/plain": [
       "  Label                                     Image_Path\n",
       "0     -  D:\\DoAn1\\math\\extracted_images\\-\\-_100005.jpg\n",
       "1     -  D:\\DoAn1\\math\\extracted_images\\-\\-_100007.jpg\n",
       "2     -  D:\\DoAn1\\math\\extracted_images\\-\\-_100009.jpg\n",
       "3     -  D:\\DoAn1\\math\\extracted_images\\-\\-_100015.jpg\n",
       "4     -  D:\\DoAn1\\math\\extracted_images\\-\\-_100021.jpg"
      ]
     },
     "execution_count": 4,
     "metadata": {},
     "output_type": "execute_result"
    }
   ],
   "source": [
    "# Đọc file CSV vào DataFrame\n",
    "data = pd.read_csv(csv_path)\n",
    "data_top=data.head()\n",
    "data_top"
   ]
  },
  {
   "cell_type": "code",
   "execution_count": 5,
   "metadata": {},
   "outputs": [],
   "source": [
    "image_folder = 'D:\\DoAn1\\math\\extracted_images'"
   ]
  },
  {
   "cell_type": "code",
   "execution_count": 6,
   "metadata": {},
   "outputs": [],
   "source": [
    "images = []\n",
    "labels = []"
   ]
  },
  {
   "cell_type": "code",
   "execution_count": 7,
   "metadata": {},
   "outputs": [],
   "source": [
    "# Đọc ảnh và chuẩn bị dữ liệu\n",
    "\n",
    "for index, row in data.iterrows():\n",
    "    image_path = os.path.join(image_folder, row['Image_Path'])\n",
    "    label = row['Label']\n",
    "    \n",
    "    # Đọc ảnh và chuyển đổi thành định dạng phù hợp\n",
    "    image = cv2.imread(image_path)\n",
    "    image = cv2.cvtColor(image, cv2.COLOR_BGR2GRAY)\n",
    "    image = cv2.resize(image, (28, 28))  # Điều chỉnh kích thước ảnh\n",
    "    image = np.array(image) / 255.0  # Chuẩn hóa giá trị pixel về khoảng 0-1\n",
    "    \n",
    "    images.append(image)                                                                                                                                                                                                                                                                                        \n",
    "    labels.append(label)\n"
   ]
  },
  {
   "cell_type": "code",
   "execution_count": 60,
   "metadata": {},
   "outputs": [
    {
     "data": {
      "text/plain": [
       "'='"
      ]
     },
     "execution_count": 60,
     "metadata": {},
     "output_type": "execute_result"
    }
   ],
   "source": [
    "labels[97540]"
   ]
  },
  {
   "cell_type": "code",
   "execution_count": 61,
   "metadata": {},
   "outputs": [
    {
     "data": {
      "text/plain": [
       "<matplotlib.image.AxesImage at 0x1bbe9996110>"
      ]
     },
     "execution_count": 61,
     "metadata": {},
     "output_type": "execute_result"
    },
    {
     "data": {
      "image/png": "[encoded data removed]",
      "text/plain": [
       "<Figure size 640x480 with 1 Axes>"
      ]
     },
     "metadata": {},
     "output_type": "display_data"
    }
   ],
   "source": [
    "import matplotlib.pyplot as plt\n",
    "\n",
    "plt.imshow(images[97540])"
   ]
  },
  {
   "cell_type": "markdown",
   "metadata": {},
   "source": [
    "TRỘN DATA"
   ]
  },
  {
   "cell_type": "code",
   "execution_count": 10,
   "metadata": {},
   "outputs": [
    {
     "data": {
      "text/plain": [
       "278185"
      ]
     },
     "execution_count": 10,
     "metadata": {},
     "output_type": "execute_result"
    }
   ],
   "source": [
    "len(images)"
   ]
  },
  {
   "cell_type": "code",
   "execution_count": 57,
   "metadata": {},
   "outputs": [
    {
     "data": {
      "text/plain": [
       "'='"
      ]
     },
     "execution_count": 57,
     "metadata": {},
     "output_type": "execute_result"
    }
   ],
   "source": [
    "labels[97540]\n"
   ]
  },
  {
   "cell_type": "code",
   "execution_count": 12,
   "metadata": {},
   "outputs": [],
   "source": [
    "import random\n",
    "\n",
    "# Trộn dữ liệu\n",
    "\n",
    "shuffle_order = list(range(278185))\n",
    "random.shuffle(shuffle_order)\n",
    "\n",
    "train_data = np.array(images)\n",
    "train_label = np.array(labels)\n",
    "\n",
    "\n",
    "\n",
    "train_data = train_data[shuffle_order]\n",
    "train_label = train_label[shuffle_order]\n",
    "\n",
    "\n",
    "# chuyển đữ liệu số:\n",
    "label_encoder = LabelEncoder()\n",
    "train_label = label_encoder.fit_transform(train_label)\n",
    "\n",
    "\n",
    "# Chia tập dữ liệu thành tập huấn luyện và tập kiểm tra\n",
    "x_train, x_test, y_train, y_test = train_test_split(train_data, train_label, test_size=0.2, random_state=42)\n"
   ]
  },
  {
   "cell_type": "code",
   "execution_count": 58,
   "metadata": {},
   "outputs": [
    {
     "data": {
      "text/plain": [
       "'e'"
      ]
     },
     "execution_count": 58,
     "metadata": {},
     "output_type": "execute_result"
    }
   ],
   "source": [
    "original_labels = label_encoder.inverse_transform(train_label)\n",
    "original_labels[97540]"
   ]
  },
  {
   "cell_type": "code",
   "execution_count": 59,
   "metadata": {},
   "outputs": [
    {
     "data": {
      "text/plain": [
       "<matplotlib.image.AxesImage at 0x1bbe9988410>"
      ]
     },
     "execution_count": 59,
     "metadata": {},
     "output_type": "execute_result"
    },
    {
     "data": {
      "image/png": "[encoded data removed]",
      "text/plain": [
       "<Figure size 640x480 with 1 Axes>"
      ]
     },
     "metadata": {},
     "output_type": "display_data"
    }
   ],
   "source": [
    "plt.imshow(train_data[97540],cmap=plt.cm.binary)"
   ]
  },
  {
   "cell_type": "markdown",
   "metadata": {},
   "source": [
    "ĐƯA ẢNH VỀ TỈ LỆ ĐÚNG MÔ HÌNH"
   ]
  },
  {
   "cell_type": "code",
   "execution_count": 15,
   "metadata": {},
   "outputs": [],
   "source": [
    "# Chuyển đổi dữ liệu thành định dạng phù hợp cho mô hình CNN\n",
    "x_train = np.array(x_train).reshape(-1, 28, 28, 1)\n",
    "x_test = np.array(x_test).reshape(-1, 28, 28, 1)\n"
   ]
  },
  {
   "cell_type": "markdown",
   "metadata": {},
   "source": [
    "HUẤN LUYỆN MÔ HÌNH"
   ]
  },
  {
   "cell_type": "code",
   "execution_count": 16,
   "metadata": {},
   "outputs": [],
   "source": [
    "from tensorflow.keras.models import Model\n",
    "from tensorflow.keras.models import Sequential\n",
    "from tensorflow.keras.layers import BatchNormalization\n",
    "from tensorflow.keras.layers import AveragePooling2D\n",
    "from tensorflow.keras.layers import MaxPooling2D\n",
    "from tensorflow.keras.layers import Conv2D\n",
    "from tensorflow.keras.layers import Activation\n",
    "from tensorflow.keras.layers import Dropout\n",
    "from tensorflow.keras.layers import Flatten\n",
    "from tensorflow.keras.layers import Input\n",
    "from tensorflow.keras.layers import Dense\n",
    "from tensorflow.keras.layers import concatenate\n",
    "from tensorflow.keras.preprocessing.image import ImageDataGenerator\n",
    "from tensorflow.keras.optimizers import SGD"
   ]
  },
  {
   "cell_type": "code",
   "execution_count": 17,
   "metadata": {},
   "outputs": [],
   "source": [
    "#model = Sequential()\n",
    "\n",
    "##model.add(Conv2D(32, (3, 3), input_shape=(32, 32, 1)))\n",
    "#model.add(Activation(\"relu\"))\n",
    "#model.add(BatchNormalization())\n",
    "#model.add(Conv2D(32, (3,3), padding = \"same\"))\n",
    "#model.add(Activation(\"relu\"))\n",
    "#model.add(BatchNormalization())\n",
    "#model.add(MaxPooling2D(pool_size= (2,2)))"
   ]
  },
  {
   "cell_type": "code",
   "execution_count": 106,
   "metadata": {},
   "outputs": [],
   "source": [
    "# Tạo mô hình CNN\n",
    "model = Sequential()\n",
    "\n",
    "# Layer 1: Convolutional Layer\n",
    "model.add(Conv2D(filters=64, kernel_size=(3, 3), activation='relu', input_shape=(28, 28, 1)))\n",
    "\n",
    "# Layer 2: Pooling Layer\n",
    "model.add(MaxPooling2D(pool_size=(2, 2)))\n",
    "model.add(Dropout(0.25))\n",
    "\n",
    "# Layer 3: Convolutional Layer\n",
    "model.add(Conv2D(filters=32, kernel_size=(3, 3), activation='relu'))\n",
    "\n",
    "# Layer 4: Pooling Layer\n",
    "model.add(MaxPooling2D(pool_size=(2, 2)))\n",
    "model.add(Dropout(0.25))\n",
    "model.add(Flatten())\n",
    "\n",
    "# Layer 7: Fully Connected Layer\n",
    "model.add(Dense(units=256, activation='relu'))\n",
    "model.add(Dropout(0.25))\n",
    "model.add(Dense(units=128, activation='relu'))\n",
    "model.add(Dropout(0.25))\n",
    "\n",
    "# Layer 8: Fully Connected Layer\n",
    "model.add(Dense(units=34, activation='softmax'))"
   ]
  },
  {
   "cell_type": "code",
   "execution_count": 19,
   "metadata": {},
   "outputs": [],
   "source": [
    "#model.add(Conv2D(64, (3,3)))\n",
    "#model.add(Activation(\"relu\"))\n",
    "#model.add(BatchNormalization())\n",
    "#model.add(Conv2D(64, (3,3)))\n",
    "#model.add(Activation(\"relu\"))\n",
    "#model.add(BatchNormalization())\n",
    "#model.add(MaxPooling2D(pool_size= (2,2)))"
   ]
  },
  {
   "cell_type": "code",
   "execution_count": 20,
   "metadata": {},
   "outputs": [],
   "source": [
    "#model.add(Flatten())\n",
    "#model.add(Dense(512))\n",
    "#model.add(Activation(\"relu\"))\n",
    "#model.add(BatchNormalization())\n",
    "#model.add(Dense(67))\n",
    "#model.add(Activation(\"softmax\"))"
   ]
  },
  {
   "cell_type": "code",
   "execution_count": 107,
   "metadata": {},
   "outputs": [
    {
     "name": "stdout",
     "output_type": "stream",
     "text": [
      "Model: \"sequential_3\"\n",
      "_________________________________________________________________\n",
      " Layer (type)                Output Shape              Param #   \n",
      "=================================================================\n",
      " conv2d_6 (Conv2D)           (None, 26, 26, 64)        640       \n",
      "                                                                 \n",
      " max_pooling2d_6 (MaxPoolin  (None, 13, 13, 64)        0         \n",
      " g2D)                                                            \n",
      "                                                                 \n",
      " dropout_12 (Dropout)        (None, 13, 13, 64)        0         \n",
      "                                                                 \n",
      " conv2d_7 (Conv2D)           (None, 11, 11, 32)        18464     \n",
      "                                                                 \n",
      " max_pooling2d_7 (MaxPoolin  (None, 5, 5, 32)          0         \n",
      " g2D)                                                            \n",
      "                                                                 \n",
      " dropout_13 (Dropout)        (None, 5, 5, 32)          0         \n",
      "                                                                 \n",
      " flatten_3 (Flatten)         (None, 800)               0         \n",
      "                                                                 \n",
      " dense_9 (Dense)             (None, 256)               205056    \n",
      "                                                                 \n",
      " dropout_14 (Dropout)        (None, 256)               0         \n",
      "                                                                 \n",
      " dense_10 (Dense)            (None, 128)               32896     \n",
      "                                                                 \n",
      " dropout_15 (Dropout)        (None, 128)               0         \n",
      "                                                                 \n",
      " dense_11 (Dense)            (None, 34)                4386      \n",
      "                                                                 \n",
      "=================================================================\n",
      "Total params: 261442 (1021.26 KB)\n",
      "Trainable params: 261442 (1021.26 KB)\n",
      "Non-trainable params: 0 (0.00 Byte)\n",
      "_________________________________________________________________\n"
     ]
    }
   ],
   "source": [
    "model.summary()"
   ]
  },
  {
   "cell_type": "code",
   "execution_count": 96,
   "metadata": {},
   "outputs": [],
   "source": [
    "model.compile(optimizer = \"adam\", loss=\"sparse_categorical_crossentropy\",metrics=[\"accuracy\"] )"
   ]
  },
  {
   "cell_type": "code",
   "execution_count": 97,
   "metadata": {},
   "outputs": [
    {
     "name": "stdout",
     "output_type": "stream",
     "text": [
      "Epoch 1/10\n",
      "6955/6955 [==============================] - 85s 12ms/step - loss: 0.5302 - accuracy: 0.8440 - val_loss: 0.1906 - val_accuracy: 0.9397\n",
      "Epoch 2/10\n",
      "6955/6955 [==============================] - 85s 12ms/step - loss: 0.2618 - accuracy: 0.9186 - val_loss: 0.1397 - val_accuracy: 0.9529\n",
      "Epoch 3/10\n",
      "6955/6955 [==============================] - 85s 12ms/step - loss: 0.2161 - accuracy: 0.9301 - val_loss: 0.1201 - val_accuracy: 0.9593\n",
      "Epoch 4/10\n",
      "6955/6955 [==============================] - 86s 12ms/step - loss: 0.1959 - accuracy: 0.9361 - val_loss: 0.1100 - val_accuracy: 0.9616\n",
      "Epoch 5/10\n",
      "6955/6955 [==============================] - 86s 12ms/step - loss: 0.1845 - accuracy: 0.9396 - val_loss: 0.1056 - val_accuracy: 0.9651\n",
      "Epoch 6/10\n",
      "6955/6955 [==============================] - 86s 12ms/step - loss: 0.1734 - accuracy: 0.9435 - val_loss: 0.1014 - val_accuracy: 0.9650\n",
      "Epoch 7/10\n",
      "6955/6955 [==============================] - 87s 12ms/step - loss: 0.1671 - accuracy: 0.9450 - val_loss: 0.0888 - val_accuracy: 0.9685\n",
      "Epoch 8/10\n",
      "6955/6955 [==============================] - 86s 12ms/step - loss: 0.1610 - accuracy: 0.9467 - val_loss: 0.0854 - val_accuracy: 0.9705\n",
      "Epoch 9/10\n",
      "6955/6955 [==============================] - 86s 12ms/step - loss: 0.1579 - accuracy: 0.9475 - val_loss: 0.0826 - val_accuracy: 0.9704\n",
      "Epoch 10/10\n",
      "6955/6955 [==============================] - 88s 13ms/step - loss: 0.1545 - accuracy: 0.9489 - val_loss: 0.0801 - val_accuracy: 0.9718\n"
     ]
    },
    {
     "data": {
      "text/plain": [
       "<keras.src.callbacks.History at 0x1bbbf7ac690>"
      ]
     },
     "execution_count": 97,
     "metadata": {},
     "output_type": "execute_result"
    }
   ],
   "source": [
    "model.fit(x_train,y_train, validation_data=(x_test,y_test) ,epochs=10, verbose=1)"
   ]
  },
  {
   "cell_type": "code",
   "execution_count": 98,
   "metadata": {},
   "outputs": [
    {
     "name": "stderr",
     "output_type": "stream",
     "text": [
      "c:\\Users\\phanh\\AppData\\Local\\Programs\\Python\\Python311\\Lib\\site-packages\\keras\\src\\engine\\training.py:3000: UserWarning: You are saving your model as an HDF5 file via `model.save()`. This file format is considered legacy. We recommend using instead the native Keras format, e.g. `model.save('my_model.keras')`.\n",
      "  saving_api.save_model(\n"
     ]
    }
   ],
   "source": [
    "# Lưu mô hình\n",
    "model.save('function_recognition_model1.h5')"
   ]
  },
  {
   "cell_type": "code",
   "execution_count": 26,
   "metadata": {},
   "outputs": [],
   "source": [
    "import tensorflow as tf\n"
   ]
  },
  {
   "cell_type": "code",
   "execution_count": 27,
   "metadata": {},
   "outputs": [],
   "source": [
    "model_text = tf.keras.models.load_model('function_recognition_model1.h5')"
   ]
  },
  {
   "cell_type": "code",
   "execution_count": 28,
   "metadata": {},
   "outputs": [
    {
     "name": "stdout",
     "output_type": "stream",
     "text": [
      "1739/1739 [==============================] - 6s 3ms/step - loss: 0.0862 - accuracy: 0.9705\n",
      "0.0861876830458641\n",
      "0.9705232381820679\n"
     ]
    }
   ],
   "source": [
    "test_loss, test_acc = model_text.evaluate(x_test,y_test)\n",
    "print(test_loss)\n",
    "print( test_acc)"
   ]
  },
  {
   "cell_type": "code",
   "execution_count": 29,
   "metadata": {},
   "outputs": [
    {
     "name": "stdout",
     "output_type": "stream",
     "text": [
      "1739/1739 [==============================] - 5s 3ms/step\n"
     ]
    }
   ],
   "source": [
    "predictions = model_text.predict([x_test])"
   ]
  },
  {
   "cell_type": "code",
   "execution_count": 30,
   "metadata": {},
   "outputs": [
    {
     "name": "stdout",
     "output_type": "stream",
     "text": [
      "[[8.61395979e-17 1.77532995e-22 4.47273927e-15 ... 1.84409135e-14\n",
      "  4.10951342e-20 1.28994330e-12]\n",
      " [4.72145347e-14 2.88215595e-18 1.16652741e-08 ... 6.58693022e-12\n",
      "  1.62406243e-17 5.30016339e-19]\n",
      " [5.33619532e-23 3.34459565e-12 6.12830809e-06 ... 9.99979258e-01\n",
      "  2.49712699e-14 1.02352274e-12]\n",
      " ...\n",
      " [1.02373691e-11 1.34052575e-10 4.05559568e-08 ... 1.12545975e-04\n",
      "  6.53078160e-08 3.80197307e-03]\n",
      " [3.78843401e-27 1.78227755e-23 8.63927019e-16 ... 1.93147311e-08\n",
      "  2.29545494e-18 7.90372889e-12]\n",
      " [5.79465222e-08 9.50385777e-12 9.99180561e-09 ... 2.27815100e-09\n",
      "  1.60126933e-16 1.43941662e-14]]\n"
     ]
    }
   ],
   "source": [
    "print(predictions)"
   ]
  },
  {
   "cell_type": "code",
   "execution_count": 31,
   "metadata": {},
   "outputs": [
    {
     "data": {
      "text/plain": [
       "8"
      ]
     },
     "execution_count": 31,
     "metadata": {},
     "output_type": "execute_result"
    }
   ],
   "source": [
    "np.argmax(predictions[35])"
   ]
  },
  {
   "cell_type": "code",
   "execution_count": 32,
   "metadata": {},
   "outputs": [
    {
     "data": {
      "text/plain": [
       "<matplotlib.image.AxesImage at 0x1bbe92b85d0>"
      ]
     },
     "execution_count": 32,
     "metadata": {},
     "output_type": "execute_result"
    },
    {
     "data": {
      "image/png": "[encoded data removed]",
      "text/plain": [
       "<Figure size 640x480 with 1 Axes>"
      ]
     },
     "metadata": {},
     "output_type": "display_data"
    }
   ],
   "source": [
    "plt.imshow(x_test[35],cmap=plt.cm.binary)"
   ]
  },
  {
   "cell_type": "code",
   "execution_count": 99,
   "metadata": {},
   "outputs": [],
   "source": [
    "import cv2\n",
    "import numpy as np\n",
    "from tensorflow.keras.models import load_model"
   ]
  },
  {
   "cell_type": "code",
   "execution_count": 136,
   "metadata": {},
   "outputs": [],
   "source": [
    "model = load_model('function_recognition_model1.h5')"
   ]
  },
  {
   "cell_type": "code",
   "execution_count": null,
   "metadata": {},
   "outputs": [],
   "source": [
    "#Hàm xử lý ký tự đặc biệt\n",
    "(def handle_special_chars(predicted_chars):\n",
    "    new_predicted_chars = []\n",
    "    i = 0\n",
    "    while i < len(predicted_chars):\n",
    "        char = predicted_chars[i]\n",
    "        # Xử lý phân số\n",
    "        if char == '/':\n",
    "            if i > 0 and i < len(predicted_chars) - 1:\n",
    "                numerator = predicted_chars[i-1]\n",
    "                denominator = predicted_chars[i+1]\n",
    "                new_char = f\"{numerator}/{denominator}\"\n",
    "                new_predicted_chars.pop()\n",
    "                new_predicted_chars.pop()\n",
    "                new_predicted_chars.append(new_char)\n",
    "                i += 1\n",
    "            else:\n",
    "                new_predicted_chars.append(char)\n",
    "        # Xử lý bình phương\n",
    "        elif char == '^':\n",
    "            if i > 0 and i < len(predicted_chars) - 1:\n",
    "                base = predicted_chars[i-1]\n",
    "                new_char = f\"{base}^2\"\n",
    "                new_predicted_chars.pop()\n",
    "                new_predicted_chars.append(new_char)\n",
    "            else:\n",
    "                new_predicted_chars.append(char)\n",
    "        # Xử lý căn bậc hai\n",
    "        elif char == '√':\n",
    "            if i < len(predicted_chars) - 1:\n",
    "                radicand = predicted_chars[i+1]\n",
    "                new_char = f\"√({radicand})\"\n",
    "                new_predicted_chars.pop()\n",
    "                new_predicted_chars.append(new_char)\n",
    "                i += 1\n",
    "            else:\n",
    "                new_predicted_chars.append(char)\n",
    "        else:\n",
    "            new_predicted_chars.append(char)\n",
    "        i += 1\n",
    "    return new_predicted_chars)"
   ]
  },
  {
   "cell_type": "code",
   "execution_count": 173,
   "metadata": {},
   "outputs": [
    {
     "name": "stdout",
     "output_type": "stream",
     "text": [
      "1/1 [==============================] - 0s 18ms/step\n",
      "1/1 [==============================] - 0s 23ms/step\n",
      "1/1 [==============================] - 0s 25ms/step\n",
      "1/1 [==============================] - 0s 22ms/step\n",
      "1/1 [==============================] - 0s 19ms/step\n",
      "Công thức toán học: 1+2=3\n"
     ]
    }
   ],
   "source": [
    "\n",
    "image_path = 'D:/DoAn1/Untitled.png'  # Thay 'path/to/your/image.png' bằng đường dẫn ảnh của bạn\n",
    "image = cv2.imread(image_path)\n",
    "gray_image = cv2.cvtColor(image, cv2.COLOR_BGR2GRAY)\n",
    "\n",
    "# Làm mờ ảnh để giảm nhiễu và cải thiện việc xác định biên\n",
    "blurred_image = cv2.GaussianBlur(gray_image, (5, 5), 0)\n",
    "\n",
    "# Xử lý ảnh để xác định biên (edge detection)\n",
    "edges = cv2.Canny(blurred_image, 50, 150)\n",
    "\n",
    "# Tìm các đường biên trong ảnh (dùng OpenCV 4.5.1 trở lên)\n",
    "contours, _ = cv2.findContours(edges, cv2.RETR_EXTERNAL, cv2.CHAIN_APPROX_SIMPLE)\n",
    "# Tạo một bản sao của ảnh để vẽ đường biên\n",
    "contour_image = np.copy(image)\n",
    "\n",
    "# Tạo danh sách các hình ảnh con chứa từng ký tự riêng lẻ\n",
    "character_images = []\n",
    "\n",
    "# Tạo danh sách tọa độ x của các đường biên\n",
    "x_coords = []\n",
    "\n",
    "for contour in contours:\n",
    "    # Xác định hình chữ nhật bao quanh biên\n",
    "    x, y, w, h = cv2.boundingRect(contour)\n",
    "    \n",
    "    # Loại bỏ các contour nhỏ hoặc quá lớn\n",
    "    if w < 5 or h < 5 or w > 100 or h > 100:\n",
    "        continue\n",
    "\n",
    "    # Trích xuất hình ảnh con chứa ký tự từ hình ảnh gốc\n",
    "    character_image = gray_image[y:y+h, x:x+w]\n",
    "    character_images.append(character_image)\n",
    "    x_coords.append(x)  # Lưu tọa độ x của đường biên\n",
    "    # Vẽ hình chữ nhật bao quanh ký tự trên bản sao ảnh\n",
    "    cv2.rectangle(contour_image, (x, y), (x+w, y+h), (0, 255, 0), 2)\n",
    "\n",
    "# Sắp xếp lại danh sách character_images theo tọa độ x\n",
    "sorted_character_images = [char_img for _, char_img in sorted(zip(x_coords, character_images))]\n",
    "\n",
    "# Chuẩn bị dữ liệu cho mô hình nhận diện ký tự\n",
    "predicted_characters = []\n",
    "\n",
    "for char_img in sorted_character_images:\n",
    "    char_img_resized = cv2.resize(char_img, (28, 28))\n",
    "    char_img_resized = char_img_resized.astype('float32')\n",
    "    char_img_resized /= 255.0\n",
    "    char_img_resized = np.expand_dims(char_img_resized, axis=0)\n",
    "    char_img_resized = np.expand_dims(char_img_resized, axis=-1)\n",
    "\n",
    "    # Dự đoán ký tự\n",
    "    prediction = model.predict(char_img_resized)\n",
    "    predicted_class_idx = np.argmax(prediction)\n",
    "    class_labels = ['(', ')', '+', '-', '0', '1', '2', '3', '4', '5', '6', '7', '8', '9', '=', 'alpha', 'beta', 'cos', 'delta', '/', 'e',\n",
    "                'h', 'i', 'in', 'log', 'p', 'phi', 'sin', 'sqrt', '*', 'v', 'x', 'y', 'z']\n",
    "    predicted_class = class_labels[predicted_class_idx]\n",
    "    predicted_characters.append(predicted_class)\n",
    "\n",
    "# Kết hợp các ký tự dự đoán để thu được công thức toán học hoàn chỉnh\n",
    "cv2.imshow('Original Image', image)\n",
    "cv2.imshow('Contours', contour_image)\n",
    "cv2.waitKey(0)\n",
    "cv2.destroyAllWindows()\n",
    "math_expression = \"\".join(predicted_characters)\n",
    "print(\"Công thức toán học:\", math_expression)"
   ]
  },
  {
   "cell_type": "code",
   "execution_count": null,
   "metadata": {},
   "outputs": [],
   "source": [
    "# Giả định class_labels là danh sách các nhãn lớp tương ứng\n",
    "class_labels = ['(', ')', '+', '-', '0', '1', '2', '3', '4', '5', '6', '7', '8', '9', '=', 'alpha', 'beta', 'cos', 'delta', 'div', 'e',\n",
    "            'h', 'i', 'in', 'log', 'p', 'phi', 'sin', 'sqrt', 'times', 'v', 'x', 'y', 'z']\n"
   ]
  }
 ],
 "metadata": {
  "kernelspec": {
   "display_name": "base",
   "language": "python",
   "name": "python3"
  },
  "language_info": {
   "codemirror_mode": {
    "name": "ipython",
    "version": 3
   },
   "file_extension": ".py",
   "mimetype": "text/x-python",
   "name": "python",
   "nbconvert_exporter": "python",
   "pygments_lexer": "ipython3",
   "version": "3.11.4"
  },
  "orig_nbformat": 4
 },
 "nbformat": 4,
 "nbformat_minor": 2
}
